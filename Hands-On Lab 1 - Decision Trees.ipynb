{
 "cells": [
  {
   "cell_type": "markdown",
   "id": "ab4a1dff",
   "metadata": {},
   "source": [
    "# Hands-On Lab 1 - Decision Trees"
   ]
  },
  {
   "cell_type": "markdown",
   "id": "31d6154a",
   "metadata": {},
   "source": [
    "### Step 1 - Load Data"
   ]
  },
  {
   "cell_type": "markdown",
   "id": "dc3cd7b1",
   "metadata": {},
   "source": [
    "The *adult_train.csv* file is the training dataset. Run the following code cell to load the dataset."
   ]
  },
  {
   "cell_type": "code",
   "execution_count": null,
   "id": "1228a5bc",
   "metadata": {},
   "outputs": [],
   "source": [
    "import pandas as pd\n",
    "\n",
    "adult_train = pd.read_csv('adult_train.csv')\n",
    "adult_train.head()"
   ]
  },
  {
   "cell_type": "markdown",
   "id": "ad175f9b",
   "metadata": {},
   "source": [
    "### Step 2 - Dataset Info"
   ]
  },
  {
   "cell_type": "markdown",
   "id": "3736786a",
   "metadata": {},
   "source": [
    "It is often useful to get additional information about the dataset beyond what is provided by the *head()* method used above. The *info()* method of the *pandas DataFrame* class provides great summary information. For example, the number of observations in the dataset and if any data is missing. Type the following code into the blank code cell in your lab notebook and run it to produce the results."
   ]
  },
  {
   "cell_type": "code",
   "execution_count": null,
   "id": "365c9c08",
   "metadata": {},
   "outputs": [],
   "source": [
    "# Enter your lab code here"
   ]
  },
  {
   "cell_type": "markdown",
   "id": "fe87128b",
   "metadata": {},
   "source": [
    "### Step 3 - Preparing the Features"
   ]
  },
  {
   "cell_type": "markdown",
   "id": "2928c1ce",
   "metadata": {},
   "source": [
    "Using subject matter expertise to choose features is critical in crafting the most valuable machine models. In the case of the *Adult Census* dataset, you can select features based on knowledge of the US economy. For example, certain factors (e.g., level of education) are highly associated with higher income levels. \n",
    "\n",
    "Your first model will be based on the hypothesis that older, more educated citizens in certain occupations have higher incomes by using the following features: *Age*, *EducationNum*, *Occupation*, and *HoursPerWeek*. As the *Occupation* feature is categorical, it will need to be one-hot encoded. Type the following code into the blank code cell in your lab notebook and run it to produce the results."
   ]
  },
  {
   "cell_type": "code",
   "execution_count": null,
   "id": "2b6283be",
   "metadata": {},
   "outputs": [],
   "source": [
    "# Enter your lab code here"
   ]
  },
  {
   "cell_type": "markdown",
   "id": "cb66115a",
   "metadata": {},
   "source": [
    "### Step 4 - Preparing the Labels"
   ]
  },
  {
   "cell_type": "markdown",
   "id": "84fa85ca",
   "metadata": {},
   "source": [
    "As covered during the lecture, the dataset labels are strings that need to be encoded as numbers. Type the following code into the blank code cell in your lab notebook and run it to produce the results."
   ]
  },
  {
   "cell_type": "code",
   "execution_count": null,
   "id": "220602a8",
   "metadata": {},
   "outputs": [],
   "source": [
    "# Enter your lab code here"
   ]
  },
  {
   "cell_type": "markdown",
   "id": "c84b1734",
   "metadata": {},
   "source": [
    "### Step 5 - Training Your First Model"
   ]
  },
  {
   "cell_type": "markdown",
   "id": "b4b85a17",
   "metadata": {},
   "source": [
    "With the features and labels prepped, it is time to train your first model. The *min_samples_leaf* hyperparameter will be set to control the tree size. The *random_state* will also be set to a common value to ensure reproducibility. Type the following code into the blank code cell in your lab notebook and run it to produce the results."
   ]
  },
  {
   "cell_type": "code",
   "execution_count": null,
   "id": "dc52af94",
   "metadata": {},
   "outputs": [],
   "source": [
    "# Enter your lab code here"
   ]
  },
  {
   "cell_type": "markdown",
   "id": "370d9873",
   "metadata": {},
   "source": [
    "### Step 6 - Visualizing Your First Model"
   ]
  },
  {
   "cell_type": "markdown",
   "id": "b2d38dce",
   "metadata": {},
   "source": [
    "One of the primary benefits of decision trees is that they are easily interpreted when visualized. Type the following code into the blank code cell in your lab notebook and run it to produce the results."
   ]
  },
  {
   "cell_type": "code",
   "execution_count": null,
   "id": "4f9b02c2",
   "metadata": {},
   "outputs": [],
   "source": [
    "# Enter your lab code here"
   ]
  },
  {
   "cell_type": "markdown",
   "id": "b91cbc8f",
   "metadata": {},
   "source": [
    "### Step 7 - Preparing Features for a 2nd Model"
   ]
  },
  {
   "cell_type": "markdown",
   "id": "d4e6f8c1",
   "metadata": {},
   "source": [
    "Building on your previous hypothesis, married couples in the US tend to have high incomes, and gender is also highly associated with income in the US. You can train a 2nd model to explore this refined hypothesis by adding the *MaritalStatus* and *Sex* features. Type the following code into the blank code cell in your lab notebook and run it to produce the results.\n",
    "\n",
    "**NOTE** - Be sure to copy the code from Step 3 and modify it rather than coding from scratch."
   ]
  },
  {
   "cell_type": "code",
   "execution_count": null,
   "id": "3509b503",
   "metadata": {},
   "outputs": [],
   "source": [
    "# Enter your lab code here"
   ]
  },
  {
   "cell_type": "markdown",
   "id": "fabc4051",
   "metadata": {},
   "source": [
    "### Step 8 - Training a 2nd Model"
   ]
  },
  {
   "cell_type": "markdown",
   "id": "586698ea",
   "metadata": {},
   "source": [
    "Once again, the *min_samples_leaf* hyperparameter will be set to control the tree size. The *random_state* will also be set to a common value to ensure reproducibility. The values are the same as the 1st tree to allow you to compare the models. Type the following code into the blank code cell in your lab notebook and run it to produce the results.\n",
    "\n",
    "**NOTE** - Be sure to copy the code from Step 5 and modify it rather than coding from scratch."
   ]
  },
  {
   "cell_type": "code",
   "execution_count": null,
   "id": "d9c71371",
   "metadata": {},
   "outputs": [],
   "source": [
    "# Enter your lab code here"
   ]
  },
  {
   "cell_type": "markdown",
   "id": "c199e9e8",
   "metadata": {},
   "source": [
    "### Step 9 - Visualizing the 2nd Model"
   ]
  },
  {
   "cell_type": "markdown",
   "id": "200fa905",
   "metadata": {},
   "source": [
    "Type the following code into the blank code cell in your lab notebook and run it to produce the results.\n",
    "\n",
    "**NOTE** - Be sure to copy the code from Step 6 and modify it rather than coding from scratch."
   ]
  },
  {
   "cell_type": "code",
   "execution_count": null,
   "id": "2086b98b",
   "metadata": {},
   "outputs": [],
   "source": [
    "# Enter your lab code here"
   ]
  }
 ],
 "metadata": {
  "kernelspec": {
   "display_name": "Python 3 (ipykernel)",
   "language": "python",
   "name": "python3"
  },
  "language_info": {
   "codemirror_mode": {
    "name": "ipython",
    "version": 3
   },
   "file_extension": ".py",
   "mimetype": "text/x-python",
   "name": "python",
   "nbconvert_exporter": "python",
   "pygments_lexer": "ipython3",
   "version": "3.10.9"
  }
 },
 "nbformat": 4,
 "nbformat_minor": 5
}
