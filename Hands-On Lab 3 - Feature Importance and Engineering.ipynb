{
 "cells": [
  {
   "cell_type": "markdown",
   "id": "e8f45be4",
   "metadata": {},
   "source": [
    "# Hands-On Lab 3 - Feature Importance and Engineering"
   ]
  },
  {
   "cell_type": "markdown",
   "id": "ca989cb2",
   "metadata": {},
   "source": [
    "### Step 1 - Load Data"
   ]
  },
  {
   "cell_type": "markdown",
   "id": "2a8c950c",
   "metadata": {},
   "source": [
    "The *adult_train.csv* file is the training dataset. Run the following code cell to load the dataset."
   ]
  },
  {
   "cell_type": "code",
   "execution_count": null,
   "id": "4b2f788c",
   "metadata": {},
   "outputs": [],
   "source": [
    "import pandas as pd\n",
    "\n",
    "adult_train = pd.read_csv('adult_train.csv')\n",
    "adult_train.head()"
   ]
  },
  {
   "cell_type": "markdown",
   "id": "aaf2d7f2",
   "metadata": {},
   "source": [
    "### Step 2 - Engineer the *Female* Feature"
   ]
  },
  {
   "cell_type": "markdown",
   "id": "e96d0dae",
   "metadata": {},
   "source": [
    "In previous labs, you have one-hot encoded the *Sex* categorical feature. This encoding produced two binary features - *Sex_Female* and *Sex_Male*. While these two features are reasonable for use in machine learning, they are not optimal. A better approach would be to engineer a single feature based on one of the categories. For example, a binary *Female* feature. Type the following code into the blank code cell in your lab notebook and run it to produce the results."
   ]
  },
  {
   "cell_type": "code",
   "execution_count": null,
   "id": "f57c216a",
   "metadata": {},
   "outputs": [],
   "source": [
    "# Enter your lab code here"
   ]
  },
  {
   "cell_type": "markdown",
   "id": "6ec748df",
   "metadata": {},
   "source": [
    "### Step 3 - Prepare the Features"
   ]
  },
  {
   "cell_type": "markdown",
   "id": "73099559",
   "metadata": {},
   "source": [
    "The following code prepares the features. Unlike the previous lab, the *Sex* feature no longer needs to be one-hot encoded because the new *Female* feature is already numeric. Run the following code to prepare the features, including the new *Female* feature."
   ]
  },
  {
   "cell_type": "code",
   "execution_count": null,
   "id": "caaed418",
   "metadata": {},
   "outputs": [],
   "source": [
    "# Features to use to predict the labels\n",
    "all_features = ['Age', 'EducationNum', 'MaritalStatus', 'Occupation', 'Race', 'Female', \n",
    "                'CapitalGain', 'CapitalLoss', 'HoursPerWeek']\n",
    "\n",
    "# Categorical features\n",
    "cat_features = ['MaritalStatus', 'Occupation', 'Race']\n",
    "\n",
    "# Select the above features and one-hot encode\n",
    "adult_X = pd.get_dummies(adult_train[all_features], prefix = cat_features , columns = cat_features)\n",
    "adult_X.head()"
   ]
  },
  {
   "cell_type": "markdown",
   "id": "eb0a97b9",
   "metadata": {},
   "source": [
    "### Step 4 - Preparing the Labels"
   ]
  },
  {
   "cell_type": "markdown",
   "id": "2905931e",
   "metadata": {},
   "source": [
    "Run the following code to prepare the labels for model training."
   ]
  },
  {
   "cell_type": "code",
   "execution_count": null,
   "id": "db75c572",
   "metadata": {},
   "outputs": [],
   "source": [
    "from sklearn.preprocessing import LabelEncoder\n",
    "\n",
    "# Encode labels\n",
    "label_encoder = LabelEncoder()\n",
    "adult_y = label_encoder.fit_transform(adult_train['Label'])\n",
    "\n",
    "print(label_encoder.classes_)\n",
    "print(adult_y)"
   ]
  },
  {
   "cell_type": "markdown",
   "id": "e45e9cb9",
   "metadata": {},
   "source": [
    "### Step 5 - Train the Random Forest"
   ]
  },
  {
   "cell_type": "markdown",
   "id": "62d2aae1",
   "metadata": {},
   "source": [
    "Type the following code into the blank code cell in your lab notebook and run it to produce the results.\n",
    "\n",
    "**NOTE** - You can adjust the *n_jobs* parameter if you have a more powerful laptop."
   ]
  },
  {
   "cell_type": "code",
   "execution_count": null,
   "id": "f7bcfbc4",
   "metadata": {},
   "outputs": [],
   "source": [
    "# Enter your lab code here"
   ]
  },
  {
   "cell_type": "markdown",
   "id": "3d89492e",
   "metadata": {},
   "source": [
    "### Step 6 - Feature Importance"
   ]
  },
  {
   "cell_type": "markdown",
   "id": "9dd5e1e8",
   "metadata": {},
   "source": [
    "As discussed in lecture, permutation importance is very compute-intensive. For example, running the following code cell took approximately three minutes on my laptop. Type the following code into the blank code cell in your lab notebook and run it to produce the results.\n",
    "\n",
    "**NOTE** - You can adjust the *n_jobs* parameter if you have a more powerful laptop."
   ]
  },
  {
   "cell_type": "code",
   "execution_count": null,
   "id": "eaa5c109",
   "metadata": {},
   "outputs": [],
   "source": [
    "# Enter your lab code here"
   ]
  }
 ],
 "metadata": {
  "kernelspec": {
   "display_name": "Python 3 (ipykernel)",
   "language": "python",
   "name": "python3"
  },
  "language_info": {
   "codemirror_mode": {
    "name": "ipython",
    "version": 3
   },
   "file_extension": ".py",
   "mimetype": "text/x-python",
   "name": "python",
   "nbconvert_exporter": "python",
   "pygments_lexer": "ipython3",
   "version": "3.13.5"
  }
 },
 "nbformat": 4,
 "nbformat_minor": 5
}
