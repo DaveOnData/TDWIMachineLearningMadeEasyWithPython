{
 "cells": [
  {
   "cell_type": "markdown",
   "id": "120e2a40",
   "metadata": {},
   "source": [
    "# Hands-On Lab 4 - Model Testing"
   ]
  },
  {
   "cell_type": "markdown",
   "id": "2fd248e1",
   "metadata": {},
   "source": [
    "### Step 1 - Load the Data"
   ]
  },
  {
   "cell_type": "markdown",
   "id": "201d266c",
   "metadata": {},
   "source": [
    "The *adult_train.csv* file is the training dataset. Run the following code cell to load the dataset."
   ]
  },
  {
   "cell_type": "code",
   "execution_count": null,
   "id": "a0e8e6ad",
   "metadata": {},
   "outputs": [],
   "source": [
    "import pandas as pd\n",
    "\n",
    "adult_train = pd.read_csv('adult_train.csv')\n",
    "adult_train.head()"
   ]
  },
  {
   "cell_type": "markdown",
   "id": "6200e14c",
   "metadata": {},
   "source": [
    "### Step 2 - Engineer the *Female* Feature"
   ]
  },
  {
   "cell_type": "markdown",
   "id": "2b9f6601",
   "metadata": {},
   "source": [
    "The last lab illustrated how engineering a *Female* feature likely produced a better model. Run the following code cell to produce the results."
   ]
  },
  {
   "cell_type": "code",
   "execution_count": null,
   "id": "c9e82ad7",
   "metadata": {},
   "outputs": [],
   "source": [
    "# Add a new Female feature to the DataFrame\n",
    "adult_train['Female'] = adult_train['Sex'].replace({'Female': 1, 'Male': 0})\n",
    "\n",
    "# Check the results\n",
    "adult_train[['Sex', 'Female']].head()"
   ]
  },
  {
   "cell_type": "markdown",
   "id": "657aa656",
   "metadata": {},
   "source": [
    "### Step 3 - Prepare the Features"
   ]
  },
  {
   "cell_type": "markdown",
   "id": "c4c924a6",
   "metadata": {},
   "source": [
    "This lab will use the same feature preparation as Lab 3. Run the following code cell to produce the results."
   ]
  },
  {
   "cell_type": "code",
   "execution_count": null,
   "id": "83402dcb",
   "metadata": {},
   "outputs": [],
   "source": [
    "# Features to use to predict the labels\n",
    "all_features = ['Age', 'EducationNum', 'MaritalStatus', 'Occupation', 'Race', 'Female', \n",
    "                'CapitalGain', 'CapitalLoss', 'HoursPerWeek']\n",
    "\n",
    "# Categorical features\n",
    "cat_features = ['MaritalStatus', 'Occupation', 'Race']\n",
    "\n",
    "# Select the above features and one-hot encode\n",
    "adult_X = pd.get_dummies(adult_train[all_features], prefix = cat_features , columns = cat_features)\n",
    "adult_X.head()"
   ]
  },
  {
   "cell_type": "markdown",
   "id": "4727b419",
   "metadata": {},
   "source": [
    "### Step 4 - Preparing the Labels"
   ]
  },
  {
   "cell_type": "markdown",
   "id": "edf1c663",
   "metadata": {},
   "source": [
    "This lab will use the same label preparation as Lab 3. Run the following code cell to produce the results."
   ]
  },
  {
   "cell_type": "code",
   "execution_count": null,
   "id": "85881877",
   "metadata": {},
   "outputs": [],
   "source": [
    "from sklearn.preprocessing import LabelEncoder\n",
    "\n",
    "# Encode labels\n",
    "label_encoder = LabelEncoder()\n",
    "adult_y = label_encoder.fit_transform(adult_train['Label'])\n",
    "\n",
    "print(label_encoder.classes_)\n",
    "print(adult_y)"
   ]
  },
  {
   "cell_type": "markdown",
   "id": "8a855182",
   "metadata": {},
   "source": [
    "### Step 5 - Train the Random Forest"
   ]
  },
  {
   "cell_type": "markdown",
   "id": "3c1f1dcd",
   "metadata": {},
   "source": [
    "Run the following code cell to produce the results.\n",
    "\n",
    "**NOTE** - You can adjust the *n_jobs* parameter if you have a more powerful laptop."
   ]
  },
  {
   "cell_type": "code",
   "execution_count": null,
   "id": "d1efc02d",
   "metadata": {},
   "outputs": [],
   "source": [
    "from sklearn.ensemble import RandomForestClassifier\n",
    "\n",
    "# Instatiate the Random Forest object\n",
    "rf_1 = RandomForestClassifier(n_estimators = 200, oob_score = True, n_jobs = 1, random_state = 12345)\n",
    "\n",
    "# Train the RandomForestClassifier\n",
    "rf_1.fit(adult_X, adult_y)\n",
    "\n",
    "# What is the accuracy estimate?\n",
    "print(f'Estimated accuracy with OOB data: {rf_1.oob_score_:.4f}')\n",
    "\n",
    "# What is the accuracy on the training data?\n",
    "print(f'Training data accuracy: {rf_1.score(adult_X, adult_y):.4f}')"
   ]
  },
  {
   "cell_type": "markdown",
   "id": "b51ecaf2",
   "metadata": {},
   "source": [
    "### Step 6 - Load Test Data"
   ]
  },
  {
   "cell_type": "markdown",
   "id": "8d460d44",
   "metadata": {},
   "source": [
    "As you learned in the lecture, the purpose of the test dataset is to provide a final estimate of the quality of future model predictions. The following code loads the *Adult Census* test dataset. Run the following code cell to produce the results."
   ]
  },
  {
   "cell_type": "code",
   "execution_count": null,
   "id": "4bf9bfbb",
   "metadata": {},
   "outputs": [],
   "source": [
    "from sklearn.ensemble import RandomForestClassifier\n",
    "\n",
    "# Instatiate the Random Forest object\n",
    "rf_1 = RandomForestClassifier(n_estimators = 200, oob_score = True, n_jobs = 1, random_state = 12345)\n",
    "\n",
    "# Train the RandomForestClassifier\n",
    "rf_1.fit(adult_X, adult_y)\n",
    "\n",
    "# What is the accuracy estimate?\n",
    "print(f'Estimated accuracy with OOB data: {rf_1.oob_score_:.4f}')\n",
    "\n",
    "# What is the accuracy on the training data?\n",
    "print(f'Training data accuracy: {rf_1.score(adult_X, adult_y):.4f}')"
   ]
  },
  {
   "cell_type": "markdown",
   "id": "8ceeed99",
   "metadata": {},
   "source": [
    "### Step 7 - Prepare the Test Data Features"
   ]
  },
  {
   "cell_type": "markdown",
   "id": "a0c529de",
   "metadata": {},
   "source": [
    "A trained machine learning model requires the test *DataFrame* to have columns that match those used to train the model. Any data cleaning or feature engineering performed on the training *DataFrame* has to be applied to the test dataset. Type the following code into the blank code cell in your lab notebook and run it to produce the results. "
   ]
  },
  {
   "cell_type": "code",
   "execution_count": null,
   "id": "664bad58",
   "metadata": {},
   "outputs": [],
   "source": [
    "# Type your lab code here"
   ]
  },
  {
   "cell_type": "markdown",
   "id": "4f6a903c",
   "metadata": {},
   "source": [
    "### Step 8 - Preparing the Test Labels"
   ]
  },
  {
   "cell_type": "markdown",
   "id": "d527b8ec",
   "metadata": {},
   "source": [
    "As with the predictive features, you must prepare the test set labels to match the training dataset's labels. The easiest way to achieve this is to use the existing *LabelEncoder* object created in Step 4. Type the following code into the blank code cell in your lab notebook and run it to produce the results.\n",
    "\n",
    "**NOTE** - The code uses the *transform()* method"
   ]
  },
  {
   "cell_type": "code",
   "execution_count": null,
   "id": "34313427",
   "metadata": {},
   "outputs": [],
   "source": [
    "# Type your lab code here"
   ]
  },
  {
   "cell_type": "markdown",
   "id": "a8e307a9",
   "metadata": {},
   "source": [
    "### Step 9 - Making Predictions"
   ]
  },
  {
   "cell_type": "markdown",
   "id": "1b6aea2a",
   "metadata": {},
   "source": [
    "The *RandomForestClassifier* offers the *predict()* method to make predictions for a dataset. In this case, predictions for the test dataset. Type the following code into the blank code cell in your lab notebook and run it to produce the results."
   ]
  },
  {
   "cell_type": "code",
   "execution_count": null,
   "id": "cec2c724",
   "metadata": {},
   "outputs": [],
   "source": [
    "# Type your lab code here"
   ]
  },
  {
   "cell_type": "markdown",
   "id": "6fec6a95",
   "metadata": {},
   "source": [
    "### Step 10 - Evaluating the Model"
   ]
  },
  {
   "cell_type": "markdown",
   "id": "6889f8a5",
   "metadata": {},
   "source": [
    "As discussed during the lecture, the final step of any machine learning project is evaluating the model's predictive performance against the test data. The goal is to ascertain how likely the model is to meet business requirements in the future. Type the following code into the blank code cell in your lab notebook and run it to produce the results."
   ]
  },
  {
   "cell_type": "code",
   "execution_count": null,
   "id": "fe0d6ce2",
   "metadata": {},
   "outputs": [],
   "source": [
    "# Type your lab code here"
   ]
  }
 ],
 "metadata": {
  "kernelspec": {
   "display_name": "Python 3 (ipykernel)",
   "language": "python",
   "name": "python3"
  },
  "language_info": {
   "codemirror_mode": {
    "name": "ipython",
    "version": 3
   },
   "file_extension": ".py",
   "mimetype": "text/x-python",
   "name": "python",
   "nbconvert_exporter": "python",
   "pygments_lexer": "ipython3",
   "version": "3.10.9"
  }
 },
 "nbformat": 4,
 "nbformat_minor": 5
}
